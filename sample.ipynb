{
  "cells": [
    {
      "cell_type": "markdown",
      "metadata": {
        "id": "view-in-github",
        "colab_type": "text"
      },
      "source": [
        "<a href=\"https://colab.research.google.com/github/2403a53044/sample/blob/main/sample.ipynb\" target=\"_parent\"><img src=\"https://colab.research.google.com/assets/colab-badge.svg\" alt=\"Open In Colab\"/></a>"
      ]
    },
    {
      "cell_type": "code",
      "source": [
        "a=[1,2,3,4,5]\n",
        "print(a)"
      ],
      "metadata": {
        "colab": {
          "base_uri": "https://localhost:8080/"
        },
        "id": "rRZdkRl9YII6",
        "outputId": "c48c908d-1ca0-4845-f1e9-39f27e450c97"
      },
      "execution_count": 1,
      "outputs": [
        {
          "output_type": "stream",
          "name": "stdout",
          "text": [
            "[1, 2, 3, 4, 5]\n"
          ]
        }
      ]
    },
    {
      "cell_type": "code",
      "source": [
        "a=(56,\"manoj\",25,50)\n",
        "print(a)"
      ],
      "metadata": {
        "colab": {
          "base_uri": "https://localhost:8080/"
        },
        "id": "4XYKKke8YV1X",
        "outputId": "7a051b6a-84a1-47b4-ff5e-ec38bd3ba036"
      },
      "execution_count": 7,
      "outputs": [
        {
          "output_type": "stream",
          "name": "stdout",
          "text": [
            "(56, 'manoj', 25, 50)\n"
          ]
        }
      ]
    },
    {
      "cell_type": "code",
      "source": [
        "student = {\"name\": \"Manoj\", \"age\": 20}\n",
        "student[\"age\"] = 21\n",
        "student[\"grade\"] = \"A\"\n",
        "print(student)\n"
      ],
      "metadata": {
        "colab": {
          "base_uri": "https://localhost:8080/"
        },
        "id": "rT8-gvn2Y3hp",
        "outputId": "0b9d6571-8847-49c2-de63-6777de35bcc2"
      },
      "execution_count": 11,
      "outputs": [
        {
          "output_type": "stream",
          "name": "stdout",
          "text": [
            "{'name': 'Manoj', 'age': 21, 'grade': 'A'}\n"
          ]
        }
      ]
    },
    {
      "cell_type": "code",
      "source": [
        "# List\n",
        "fruits = [\"apple\", \"banana\", \"cherry\"]\n",
        "fruits.append(\"mango\")\n",
        "print(\"List:\", fruits)\n",
        "\n",
        "# Tuple\n",
        "colors = (\"red\", \"green\", \"blue\")\n",
        "print(\"Tuple:\", colors, \"| First:\", colors[0])\n",
        "\n",
        "# Dictionary\n",
        "student = {\"name\": \"Manoj\", \"age\": 20}\n",
        "student[\"grade\"] = \"A\"\n",
        "print(\"Dictionary:\", student)\n"
      ],
      "metadata": {
        "colab": {
          "base_uri": "https://localhost:8080/"
        },
        "id": "Py9NhXMEcSij",
        "outputId": "31c4cc6f-7d23-4ff1-a6b0-9a2ab82bfc20"
      },
      "execution_count": 12,
      "outputs": [
        {
          "output_type": "stream",
          "name": "stdout",
          "text": [
            "List: ['apple', 'banana', 'cherry', 'mango']\n",
            "Tuple: ('red', 'green', 'blue') | First: red\n",
            "Dictionary: {'name': 'Manoj', 'age': 20, 'grade': 'A'}\n"
          ]
        }
      ]
    },
    {
      "cell_type": "code",
      "source": [
        "fruits = []\n",
        "n = int(input(\"How many fruits to add in list? \"))\n",
        "for i in range(n):\n",
        "    fruits.append(input(f\"Enter fruit {i+1}: \"))\n",
        "\n",
        "print(\"List:\", fruits)\n"
      ],
      "metadata": {
        "colab": {
          "base_uri": "https://localhost:8080/"
        },
        "id": "s_j4gR2KhlVo",
        "outputId": "c51f7e03-cb65-42c4-85c3-db7f7213bc43"
      },
      "execution_count": 13,
      "outputs": [
        {
          "output_type": "stream",
          "name": "stdout",
          "text": [
            "How many fruits to add in list? 2\n",
            "Enter fruit 1: mango\n",
            "Enter fruit 2: banana\n",
            "List: ['mango', 'banana']\n"
          ]
        }
      ]
    },
    {
      "cell_type": "code",
      "source": [
        "n = int(input(\"How many items to add in tuple? \"))\n",
        "items = []\n",
        "for i in range(n):\n",
        "    items.append(input(f\"Enter item {i+1}: \"))\n",
        "\n",
        "my_tuple = tuple(items)\n",
        "print(\"Tuple:\", my_tuple)\n"
      ],
      "metadata": {
        "colab": {
          "base_uri": "https://localhost:8080/"
        },
        "id": "q0z4N9kFhqve",
        "outputId": "8614c0a5-e4f5-4d47-af4c-10a59fdf948b"
      },
      "execution_count": 14,
      "outputs": [
        {
          "output_type": "stream",
          "name": "stdout",
          "text": [
            "How many items to add in tuple? 2\n",
            "Enter item 1: man\n",
            "Enter item 2: ran\n",
            "Tuple: ('man', 'ran')\n"
          ]
        }
      ]
    },
    {
      "cell_type": "code",
      "source": [
        "student = {}\n",
        "n = int(input(\"How many details to add in dictionary? \"))\n",
        "\n",
        "for i in range(n):\n",
        "    key = input(f\"Enter key {i+1}: \")\n",
        "    value = input(f\"Enter value for {key}: \")\n",
        "    student[key] = value\n",
        "\n",
        "print(\"Dictionary:\", student)\n"
      ],
      "metadata": {
        "colab": {
          "base_uri": "https://localhost:8080/"
        },
        "id": "WvMFU7gvh0q9",
        "outputId": "e4b7aa5d-a5bc-4692-c520-24603051db7d"
      },
      "execution_count": 15,
      "outputs": [
        {
          "output_type": "stream",
          "name": "stdout",
          "text": [
            "How many details to add in dictionary? 2\n",
            "Enter key 1: manoj\n",
            "Enter value for manoj: 100\n",
            "Enter key 2: ranadheer\n",
            "Enter value for ranadheer: 50\n",
            "Dictionary: {'manoj': '100', 'ranadheer': '50'}\n"
          ]
        }
      ]
    },
    {
      "cell_type": "code",
      "source": [
        "# List\n",
        "fruits = []\n",
        "n = int(input(\"How many fruits to add in list? \"))\n",
        "for i in range(n):\n",
        "    fruits.append(input(f\"Enter fruit {i+1}: \"))\n",
        "print(\"List:\", fruits)\n",
        "\n",
        "# Tuple\n",
        "colors = tuple(input(\"Enter colors separated by space: \").split())\n",
        "print(\"Tuple:\", colors)\n",
        "\n",
        "# Dictionary\n",
        "student = {}\n",
        "student[\"name\"] = input(\"Enter student name: \")\n",
        "student[\"age\"] = int(input(\"Enter student age: \"))\n",
        "student[\"grade\"] = input(\"Enter student grade: \")\n",
        "print(\"Dictionary:\", student)\n"
      ],
      "metadata": {
        "colab": {
          "base_uri": "https://localhost:8080/"
        },
        "id": "PRyxxJ_ViBQh",
        "outputId": "7f4137f0-ee68-4a5c-f8bf-846b6d74ff1a"
      },
      "execution_count": 16,
      "outputs": [
        {
          "output_type": "stream",
          "name": "stdout",
          "text": [
            "How many fruits to add in list? 2\n",
            "Enter fruit 1: mango\n",
            "Enter fruit 2: apple\n",
            "List: ['mango', 'apple']\n",
            "Enter colors separated by space: 3\n",
            "Tuple: ('3',)\n",
            "Enter student name: manoj\n",
            "Enter student age: 18\n",
            "Enter student grade: a\n",
            "Dictionary: {'name': 'manoj', 'age': 18, 'grade': 'a'}\n"
          ]
        }
      ]
    },
    {
      "cell_type": "code",
      "source": [
        "student = {}\n",
        "n = int(input(\"How many details to add in dictionary? \"))\n",
        "\n",
        "for i in range(n):\n",
        "    key = input(f\"Enter key {i+1}: \")\n",
        "    value = input(f\"Enter value for {key}: \")\n",
        "    student[key] = value\n",
        "\n",
        "print(\"\\nDictionary contents:\")\n",
        "for key, value in student.items():\n",
        "    print(key, \":\", value)\n"
      ],
      "metadata": {
        "colab": {
          "base_uri": "https://localhost:8080/"
        },
        "id": "q5StoX88iSLh",
        "outputId": "d7342533-76dd-4e30-b3c7-139f8a558d3a"
      },
      "execution_count": 17,
      "outputs": [
        {
          "output_type": "stream",
          "name": "stdout",
          "text": [
            "How many details to add in dictionary? 2\n",
            "Enter key 1: manoj\n",
            "Enter value for manoj: 18\n",
            "Enter key 2: ranadheer\n",
            "Enter value for ranadheer: 18\n",
            "\n",
            "Dictionary contents:\n",
            "manoj : 18\n",
            "ranadheer : 18\n"
          ]
        }
      ]
    },
    {
      "cell_type": "code",
      "source": [],
      "metadata": {
        "id": "T9PS7MtCiRrf"
      },
      "execution_count": null,
      "outputs": []
    }
  ],
  "metadata": {
    "colab": {
      "toc_visible": true,
      "provenance": [],
      "include_colab_link": true
    },
    "kernelspec": {
      "display_name": "Python 3",
      "name": "python3"
    }
  },
  "nbformat": 4,
  "nbformat_minor": 0
}