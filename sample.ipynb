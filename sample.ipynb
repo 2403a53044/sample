{
  "cells": [
    {
      "cell_type": "markdown",
      "metadata": {
        "id": "view-in-github",
        "colab_type": "text"
      },
      "source": [
        "<a href=\"https://colab.research.google.com/github/2403a53044/sample/blob/main/sample.ipynb\" target=\"_parent\"><img src=\"https://colab.research.google.com/assets/colab-badge.svg\" alt=\"Open In Colab\"/></a>"
      ]
    },
    {
      "cell_type": "code",
      "source": [
        "a=[1,2,3,4,5]\n",
        "print(a)"
      ],
      "metadata": {
        "colab": {
          "base_uri": "https://localhost:8080/"
        },
        "id": "rRZdkRl9YII6",
        "outputId": "c48c908d-1ca0-4845-f1e9-39f27e450c97"
      },
      "execution_count": 1,
      "outputs": [
        {
          "output_type": "stream",
          "name": "stdout",
          "text": [
            "[1, 2, 3, 4, 5]\n"
          ]
        }
      ]
    },
    {
      "cell_type": "code",
      "source": [
        "a=(56,\"manoj\",25,50)\n",
        "print(a)"
      ],
      "metadata": {
        "colab": {
          "base_uri": "https://localhost:8080/"
        },
        "id": "4XYKKke8YV1X",
        "outputId": "7a051b6a-84a1-47b4-ff5e-ec38bd3ba036"
      },
      "execution_count": 7,
      "outputs": [
        {
          "output_type": "stream",
          "name": "stdout",
          "text": [
            "(56, 'manoj', 25, 50)\n"
          ]
        }
      ]
    },
    {
      "cell_type": "code",
      "source": [
        "student = {\"name\": \"Manoj\", \"age\": 20}\n",
        "student[\"age\"] = 21\n",
        "student[\"grade\"] = \"A\"\n",
        "print(student)\n"
      ],
      "metadata": {
        "colab": {
          "base_uri": "https://localhost:8080/"
        },
        "id": "rT8-gvn2Y3hp",
        "outputId": "0b9d6571-8847-49c2-de63-6777de35bcc2"
      },
      "execution_count": 11,
      "outputs": [
        {
          "output_type": "stream",
          "name": "stdout",
          "text": [
            "{'name': 'Manoj', 'age': 21, 'grade': 'A'}\n"
          ]
        }
      ]
    },
    {
      "cell_type": "code",
      "source": [
        "# List\n",
        "fruits = [\"apple\", \"banana\", \"cherry\"]\n",
        "fruits.append(\"mango\")\n",
        "print(\"List:\", fruits)\n",
        "\n",
        "# Tuple\n",
        "colors = (\"red\", \"green\", \"blue\")\n",
        "print(\"Tuple:\", colors, \"| First:\", colors[0])\n",
        "\n",
        "# Dictionary\n",
        "student = {\"name\": \"Manoj\", \"age\": 20}\n",
        "student[\"grade\"] = \"A\"\n",
        "print(\"Dictionary:\", student)\n"
      ],
      "metadata": {
        "colab": {
          "base_uri": "https://localhost:8080/"
        },
        "id": "Py9NhXMEcSij",
        "outputId": "31c4cc6f-7d23-4ff1-a6b0-9a2ab82bfc20"
      },
      "execution_count": 12,
      "outputs": [
        {
          "output_type": "stream",
          "name": "stdout",
          "text": [
            "List: ['apple', 'banana', 'cherry', 'mango']\n",
            "Tuple: ('red', 'green', 'blue') | First: red\n",
            "Dictionary: {'name': 'Manoj', 'age': 20, 'grade': 'A'}\n"
          ]
        }
      ]
    }
  ],
  "metadata": {
    "colab": {
      "toc_visible": true,
      "provenance": [],
      "include_colab_link": true
    },
    "kernelspec": {
      "display_name": "Python 3",
      "name": "python3"
    }
  },
  "nbformat": 4,
  "nbformat_minor": 0
}